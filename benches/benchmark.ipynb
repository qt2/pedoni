{
 "cells": [
  {
   "cell_type": "code",
   "execution_count": null,
   "metadata": {},
   "outputs": [],
   "source": [
    "using Plots\n",
    "using JSON\n",
    "using DataFrames\n",
    "\n",
    "default(framestyle=:box)"
   ]
  },
  {
   "cell_type": "code",
   "execution_count": null,
   "metadata": {},
   "outputs": [],
   "source": [
    "function load_step_metrics(name)\n",
    "    data = JSON.parsefile(\"../logs/$name.json\")\n",
    "    DataFrame(data[\"step_metrics\"])\n",
    "end"
   ]
  },
  {
   "cell_type": "markdown",
   "metadata": {},
   "source": [
    "## Profile GPU kernel"
   ]
  },
  {
   "cell_type": "code",
   "execution_count": null,
   "metadata": {},
   "outputs": [],
   "source": [
    "df = load_step_metrics(\"gpu\")\n",
    "\n",
    "display(first(df))\n",
    "\n",
    "plot(xlabel=\"Pedestrian count\", ylabel=\"Process time per step / s\")\n",
    "plot!(df.active_ped_count, [df.time_calc_state, df.time_calc_state_kernel], labels=[\"Total\" \"Kernel\"])"
   ]
  },
  {
   "cell_type": "code",
   "execution_count": null,
   "metadata": {},
   "outputs": [],
   "source": [
    "savefig(\"output/profile_gpu_kernel.svg\");"
   ]
  },
  {
   "cell_type": "markdown",
   "metadata": {},
   "source": [
    "## Evaluate performance between backends"
   ]
  },
  {
   "cell_type": "code",
   "execution_count": null,
   "metadata": {},
   "outputs": [],
   "source": [
    "items = [\"gpu\", \"cpu\"]\n",
    "\n",
    "plot(xlabel=\"Pedestrian count\", ylabel=\"Process time per step / s\")\n",
    "\n",
    "for item in items\n",
    "    df = load_step_metrics(item)\n",
    "    plot!(df.active_ped_count, df.time_calc_state, label=item)\n",
    "end\n",
    "\n",
    "plot!()"
   ]
  },
  {
   "cell_type": "code",
   "execution_count": null,
   "metadata": {},
   "outputs": [],
   "source": [
    "savefig(\"output/performance_comparison.svg\");"
   ]
  },
  {
   "cell_type": "code",
   "execution_count": null,
   "metadata": {},
   "outputs": [],
   "source": []
  }
 ],
 "metadata": {
  "kernelspec": {
   "display_name": "Julia 1.11.1",
   "language": "julia",
   "name": "julia-1.11"
  },
  "language_info": {
   "file_extension": ".jl",
   "mimetype": "application/julia",
   "name": "julia",
   "version": "1.11.1"
  }
 },
 "nbformat": 4,
 "nbformat_minor": 2
}
