{
 "cells": [
  {
   "cell_type": "code",
   "execution_count": null,
   "metadata": {},
   "outputs": [],
   "source": [
    "using Plots\n",
    "using JSON\n",
    "using DataFrames\n",
    "\n",
    "default(framestyle=:box)"
   ]
  },
  {
   "cell_type": "code",
   "execution_count": null,
   "metadata": {},
   "outputs": [],
   "source": [
    "function load_step_metrics(name)\n",
    "    data = JSON.parsefile(\"../logs/$name.json\")\n",
    "    DataFrame(data[\"step_metrics\"])\n",
    "end"
   ]
  },
  {
   "cell_type": "markdown",
   "metadata": {},
   "source": [
    "## Profile GPU kernel"
   ]
  },
  {
   "cell_type": "code",
   "execution_count": null,
   "metadata": {},
   "outputs": [],
   "source": [
    "df = load_step_metrics(\"gpu_spawn\")\n",
    "\n",
    "display(first(df))\n",
    "\n",
    "plot(xlabel=\"Pedestrian count\", ylabel=\"Process time per step / s\")\n",
    "plot!(df.active_ped_count, [df.time_spawn, df.time_calc_state, df.time_calc_state_kernel], labels=[\"spawn\" \"calc_state\" \"calc_state_kernel\"])"
   ]
  },
  {
   "cell_type": "code",
   "execution_count": null,
   "metadata": {},
   "outputs": [],
   "source": [
    "savefig(\"output/profile_gpu_kernel.svg\");"
   ]
  },
  {
   "cell_type": "markdown",
   "metadata": {},
   "source": [
    "## Evaluate time between spawn implementations"
   ]
  },
  {
   "cell_type": "code",
   "execution_count": null,
   "metadata": {},
   "outputs": [],
   "source": [
    "items = [\"gpu_spawn\", \"spawn_reserve\", \"spawn_has_capacity\", \"gpu_release\"]\n",
    "\n",
    "plot(xlabel=\"Pedestrian count\", ylabel=\"Process time per step / s\", ylim=[0.0, 0.01], xlim=[0.0, 2.5e4])\n",
    "\n",
    "for item in items\n",
    "    df = load_step_metrics(item)\n",
    "    plot!(df.active_ped_count, df.time_spawn, label=item)\n",
    "end\n",
    "\n",
    "plot!()"
   ]
  },
  {
   "cell_type": "markdown",
   "metadata": {},
   "source": [
    "## Evaluate performance between backends"
   ]
  },
  {
   "cell_type": "code",
   "execution_count": null,
   "metadata": {},
   "outputs": [],
   "source": [
    "items = [\"cpu_release\", \"gpu_release\"]\n",
    "\n",
    "plot(xlabel=\"Pedestrian count\", ylabel=\"Process time per step / s\")\n",
    "\n",
    "for item in items\n",
    "    df = load_step_metrics(item)\n",
    "    plot!(df.active_ped_count, df.time_calc_state, label=item)\n",
    "end\n",
    "\n",
    "plot!()"
   ]
  },
  {
   "cell_type": "code",
   "execution_count": null,
   "metadata": {},
   "outputs": [],
   "source": [
    "items = [\"gpu\", \"gpu_release\", \"box\"]\n",
    "\n",
    "plot(xlabel=\"Pedestrian count\", ylabel=\"Process time per step / s\", ylim=[0.0, 0.01])\n",
    "\n",
    "for item in items\n",
    "    df = load_step_metrics(item)\n",
    "    plot!(df.active_ped_count, df.time_calc_state, label=item)\n",
    "end\n",
    "\n",
    "plot!()"
   ]
  },
  {
   "cell_type": "code",
   "execution_count": null,
   "metadata": {},
   "outputs": [],
   "source": [
    "items = [\"gpu\", \"gpu_loop_sw\", \"gpu_load_only\", \"gpu_release\"]\n",
    "\n",
    "plot(xlabel=\"Pedestrian count\", ylabel=\"Process time per step / s\", ylim=[0.0, 0.01])\n",
    "\n",
    "for item in items\n",
    "    df = load_step_metrics(item)\n",
    "    plot!(df.active_ped_count, df.time_calc_state_kernel, label=item)\n",
    "end\n",
    "\n",
    "plot!()"
   ]
  },
  {
   "cell_type": "code",
   "execution_count": null,
   "metadata": {},
   "outputs": [],
   "source": [
    "savefig(\"output/performance_comparison.svg\");"
   ]
  },
  {
   "cell_type": "code",
   "execution_count": null,
   "metadata": {},
   "outputs": [],
   "source": []
  }
 ],
 "metadata": {
  "kernelspec": {
   "display_name": "Julia 1.11.1",
   "language": "julia",
   "name": "julia-1.11"
  },
  "language_info": {
   "file_extension": ".jl",
   "mimetype": "application/julia",
   "name": "julia",
   "version": "1.11.1"
  }
 },
 "nbformat": 4,
 "nbformat_minor": 2
}
