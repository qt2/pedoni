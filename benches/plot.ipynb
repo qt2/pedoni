{
 "cells": [
  {
   "cell_type": "code",
   "execution_count": null,
   "metadata": {},
   "outputs": [],
   "source": [
    "using Plots\n",
    "using JSON\n",
    "using DataFrames\n",
    "\n",
    "default(framestyle=:box)"
   ]
  },
  {
   "cell_type": "code",
   "execution_count": null,
   "metadata": {},
   "outputs": [],
   "source": [
    "function load_step_metrics(name)\n",
    "    data = JSON.parsefile(\"../logs/$name.json\")\n",
    "    DataFrame(data[\"step_metrics\"])\n",
    "end\n",
    "\n",
    "function compare_time_calc_state(scenario; model=\"\", backends=[\"nogrid\", \"cpu\", \"gpu\"], steps=[])\n",
    "    items = [\"$(scenario)_$(model != \"\" ? \"$model_\" : \"\")$(backend)\" for backend in backends]\n",
    "    dfs = []\n",
    "\n",
    "    plot(xlabel=\"Pedestrian count\", ylabel=\"Process time per step / s\")\n",
    "    for (i, item) in enumerate(items)\n",
    "        df = load_step_metrics(item)\n",
    "        plot!(df.active_ped_count, df.time_calc_state, label=backends[i])\n",
    "        push!(dfs, df)\n",
    "    end\n",
    "\n",
    "    for (j, step) in enumerate(steps)\n",
    "        base_time = 0.0\n",
    "\n",
    "        for (i, item) in enumerate(items)\n",
    "            time = dfs[i].time_calc_state[step]\n",
    "            if i == 1\n",
    "                ped_count = dfs[i].active_ped_count[step]\n",
    "                base_time = time\n",
    "                println(\"step: $step, pedestrian_count: $ped_count\")\n",
    "            end\n",
    "            println(\"$item: $(time*1000.0) ms (x $(base_time / time))\")\n",
    "        end\n",
    "        println(\"---\")\n",
    "    end\n",
    "\n",
    "    plot!()\n",
    "end"
   ]
  },
  {
   "cell_type": "markdown",
   "metadata": {},
   "source": [
    "## Compare calculation time between backends"
   ]
  },
  {
   "cell_type": "code",
   "execution_count": null,
   "metadata": {},
   "outputs": [],
   "source": [
    "compare_time_calc_state(\"bn2\", backends=[\"cpu14\", \"gpu14\"], steps=[5000])\n",
    "# plot!(ylim = [0.0, 0.05])"
   ]
  },
  {
   "cell_type": "code",
   "execution_count": null,
   "metadata": {},
   "outputs": [],
   "source": [
    "savefig(\"output/bn2.svg\");"
   ]
  },
  {
   "cell_type": "code",
   "execution_count": null,
   "metadata": {},
   "outputs": [],
   "source": [
    "compare_time_calc_state(\"bn2\", backends=[\"nogrid14\", \"cpu14\"], steps=[])\n",
    "plot!(ylim=[0.0, 0.5])\n",
    "savefig(\"output/bn2_cpu.svg\");"
   ]
  },
  {
   "cell_type": "code",
   "execution_count": null,
   "metadata": {},
   "outputs": [],
   "source": [
    "compare_time_calc_state(\"sparse\", backends=[\"nogrid\", \"cpu\", \"gpu\"], steps=[1000, 3000])"
   ]
  },
  {
   "cell_type": "code",
   "execution_count": null,
   "metadata": {},
   "outputs": [],
   "source": [
    "savefig(\"output/sparse.svg\");"
   ]
  },
  {
   "cell_type": "markdown",
   "metadata": {},
   "source": [
    "## Profile GPU kernel"
   ]
  },
  {
   "cell_type": "code",
   "execution_count": null,
   "metadata": {},
   "outputs": [],
   "source": [
    "df = load_step_metrics(\"bn2_gpu\")\n",
    "\n",
    "plot(xlabel=\"Pedestrian count\", ylabel=\"Process time per step / s\")\n",
    "plot!(df.active_ped_count, [df.time_spawn, df.time_calc_state, df.time_calc_state_kernel], labels=[\"spawn\" \"calc_state\" \"calc_state_kernel\"])"
   ]
  },
  {
   "cell_type": "markdown",
   "metadata": {},
   "source": [
    "## Profile spawn implementations"
   ]
  },
  {
   "cell_type": "code",
   "execution_count": null,
   "metadata": {},
   "outputs": [],
   "source": [
    "items = [\"bn2_gpu\", \"bn2_pariter\"]\n",
    "\n",
    "plot(xlabel=\"Pedestrian count\", ylabel=\"Process time per step / s\")\n",
    "\n",
    "for item in items\n",
    "    df = load_step_metrics(item)\n",
    "    plot!(df.active_ped_count, df.time_spawn, label=item)\n",
    "end\n",
    "\n",
    "plot!()"
   ]
  },
  {
   "cell_type": "code",
   "execution_count": null,
   "metadata": {},
   "outputs": [],
   "source": []
  }
 ],
 "metadata": {
  "kernelspec": {
   "display_name": "Julia 1.11.1",
   "language": "julia",
   "name": "julia-1.11"
  },
  "language_info": {
   "file_extension": ".jl",
   "mimetype": "application/julia",
   "name": "julia",
   "version": "1.11.1"
  }
 },
 "nbformat": 4,
 "nbformat_minor": 2
}
